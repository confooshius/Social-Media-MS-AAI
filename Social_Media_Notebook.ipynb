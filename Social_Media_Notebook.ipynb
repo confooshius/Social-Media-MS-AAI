{
 "cells": [
  {
   "cell_type": "markdown",
   "id": "a6fc2adb-cb47-467b-8dee-95fb52c99472",
   "metadata": {},
   "source": [
    "## Social Media Usage and Emotional Wellbeing\n",
    "\n",
    "Social media has become deeply embedded into society and our personal lives, impacting our everyday activities and emotional wellbeing. This analysis explores a dataset that has captured social media engagement and the users' prevailing emotional state. The objective of this research is to understand the relationship between social media habits and emotional well-being.\n",
    "\n",
    "This notebook will include the following sections:\n",
    "- Data Cleaning / Preparation\n",
    "- Exploratory Data Analysis\n",
    "- Model Selection\n",
    "- Model Analysis"
   ]
  },
  {
   "cell_type": "markdown",
   "id": "8b40be19-2ebe-4307-ae98-2e7a9879801e",
   "metadata": {},
   "source": [
    "## Section 1: Data Cleaning / Preparation\n",
    "- Load libraries and data\n",
    "- Understand the data with descriptive statistics\n",
    "- Locate and address any missing values\n",
    "- "
   ]
  },
  {
   "cell_type": "code",
   "execution_count": 85,
   "id": "8c72b102-b212-43a5-b93e-fa2599316d5c",
   "metadata": {},
   "outputs": [],
   "source": [
    "# Import libraries for data analysis, visualization, math calculation\n",
    "\n",
    "import pandas as pd\n",
    "import numpy as np\n",
    "import matplotlib.pyplot as plt\n",
    "import seaborn as sns\n",
    "from scipy import stats\n",
    "import scipy.stats as stats"
   ]
  },
  {
   "cell_type": "code",
   "execution_count": 86,
   "id": "514e0696-29f0-4c9b-b726-3746c74d2455",
   "metadata": {},
   "outputs": [],
   "source": [
    "# Authenticate with Google to using JSON file containing credentials\n",
    "import gspread\n",
    "from oauth2client.service_account import ServiceAccountCredentials"
   ]
  },
  {
   "cell_type": "code",
   "execution_count": 87,
   "id": "d789b0c0-c853-4702-b192-987210f94610",
   "metadata": {},
   "outputs": [],
   "source": [
    "# Define scope and credentials\n",
    "scope = ['https://spreadsheets.google.com/feeds', 'https://www.googleapis.com/auth/drive']\n",
    "credentials = ServiceAccountCredentials.from_json_keyfile_name('/Users/gurl/Downloads/social-media-dataset-1142c86876cb.json', scope)"
   ]
  },
  {
   "cell_type": "code",
   "execution_count": 88,
   "id": "047daee2-7e63-4bb6-a4f0-4a3e66798d1f",
   "metadata": {},
   "outputs": [],
   "source": [
    "# Authenticate with Google Sheets\n",
    "gc = gspread.authorize(credentials)"
   ]
  },
  {
   "cell_type": "code",
   "execution_count": 89,
   "id": "2107bfa2-7471-41af-91ff-e44b8ed11912",
   "metadata": {},
   "outputs": [],
   "source": [
    "# Open the Google Sheets document\n",
    "workbook = gc.open_by_url('https://docs.google.com/spreadsheets/d/1jaSLC6ddZ6f_ycCx9q2qKHI_f_5_ljAUV5d6X4mon_o/edit#gid=0')"
   ]
  },
  {
   "cell_type": "code",
   "execution_count": 90,
   "id": "cb34dc78-5a2b-4a8a-87bc-5c0efeba9b38",
   "metadata": {},
   "outputs": [],
   "source": [
    "# Read data from a specific worksheet\n",
    "worksheet = workbook.get_worksheet(0)  # Index of the worksheet (0-based)\n",
    "data = worksheet.get_all_values()"
   ]
  },
  {
   "cell_type": "code",
   "execution_count": 91,
   "id": "1d536d70-9a9f-46ec-84a3-6d382580a8c0",
   "metadata": {},
   "outputs": [],
   "source": [
    "# Convert data to DataFrame (optional)\n",
    "social_df = pd.DataFrame(data[1:], columns=data[0])"
   ]
  },
  {
   "cell_type": "code",
   "execution_count": 92,
   "id": "4c4f4c49-d6ef-4971-acc1-2c1069440b5b",
   "metadata": {},
   "outputs": [
    {
     "name": "stdout",
     "output_type": "stream",
     "text": [
      "  User_ID Age      Gender   Platform Daily_Usage_Time (minutes) Posts_Per_Day   \n",
      "0       1  25      Female  Instagram                        120             3  \\\n",
      "1       2  30        Male    Twitter                         90             5   \n",
      "2       3  22  Non-binary   Facebook                         60             2   \n",
      "3       4  28      Female  Instagram                        200             8   \n",
      "4       5  33        Male   LinkedIn                         45             1   \n",
      "\n",
      "  Likes_Received_Per_Day Comments_Received_Per_Day Messages_Sent_Per_Day   \n",
      "0                     45                        10                    12  \\\n",
      "1                     20                        25                    30   \n",
      "2                     15                         5                    20   \n",
      "3                    100                        30                    50   \n",
      "4                      5                         2                    10   \n",
      "\n",
      "  Dominant_Emotion  \n",
      "0        Happiness  \n",
      "1            Anger  \n",
      "2          Neutral  \n",
      "3          Anxiety  \n",
      "4          Boredom  \n"
     ]
    }
   ],
   "source": [
    "print(social_df.head())"
   ]
  },
  {
   "cell_type": "code",
   "execution_count": 93,
   "id": "1548956e-2872-4ad3-9def-1282e5713642",
   "metadata": {},
   "outputs": [
    {
     "name": "stdout",
     "output_type": "stream",
     "text": [
      "User_ID                       1000\n",
      "Age                           1000\n",
      "Gender                        1000\n",
      "Platform                      1000\n",
      "Daily_Usage_Time (minutes)    1000\n",
      "Posts_Per_Day                 1000\n",
      "Likes_Received_Per_Day        1000\n",
      "Comments_Received_Per_Day     1000\n",
      "Messages_Sent_Per_Day         1000\n",
      "Dominant_Emotion              1000\n",
      "dtype: int64\n"
     ]
    }
   ],
   "source": [
    "print(social_df.count())"
   ]
  },
  {
   "cell_type": "code",
   "execution_count": 94,
   "id": "3c017bcc-d5f4-4977-a80a-415101e72ee7",
   "metadata": {},
   "outputs": [
    {
     "name": "stdout",
     "output_type": "stream",
     "text": [
      "Index(['User_ID', 'Age', 'Gender', 'Platform', 'Daily_Usage_Time (minutes)',\n",
      "       'Posts_Per_Day', 'Likes_Received_Per_Day', 'Comments_Received_Per_Day',\n",
      "       'Messages_Sent_Per_Day', 'Dominant_Emotion'],\n",
      "      dtype='object')\n"
     ]
    }
   ],
   "source": [
    "print(social_df.columns)"
   ]
  },
  {
   "cell_type": "code",
   "execution_count": 95,
   "id": "07d00fc1-1c25-4877-a12d-b8dc21c82a85",
   "metadata": {},
   "outputs": [
    {
     "name": "stdout",
     "output_type": "stream",
     "text": [
      "User_ID                       object\n",
      "Age                           object\n",
      "Gender                        object\n",
      "Platform                      object\n",
      "Daily_Usage_Time (minutes)    object\n",
      "Posts_Per_Day                 object\n",
      "Likes_Received_Per_Day        object\n",
      "Comments_Received_Per_Day     object\n",
      "Messages_Sent_Per_Day         object\n",
      "Dominant_Emotion              object\n",
      "dtype: object\n"
     ]
    }
   ],
   "source": [
    "print(social_df.dtypes)"
   ]
  },
  {
   "cell_type": "code",
   "execution_count": 96,
   "id": "f440781c-0bcc-4b83-a785-8d57a3aefc97",
   "metadata": {},
   "outputs": [
    {
     "name": "stdout",
     "output_type": "stream",
     "text": [
      "Missing Values:\n",
      "User_ID                       0\n",
      "Age                           0\n",
      "Gender                        0\n",
      "Platform                      0\n",
      "Daily_Usage_Time (minutes)    0\n",
      "Posts_Per_Day                 0\n",
      "Likes_Received_Per_Day        0\n",
      "Comments_Received_Per_Day     0\n",
      "Messages_Sent_Per_Day         0\n",
      "Dominant_Emotion              0\n",
      "dtype: int64\n"
     ]
    }
   ],
   "source": [
    "# Identify missing values\n",
    "missing_values = social_df.isnull().sum()\n",
    "\n",
    "# Print the missing values count for each column\n",
    "print(\"Missing Values:\")\n",
    "print(missing_values)"
   ]
  },
  {
   "cell_type": "code",
   "execution_count": 97,
   "id": "e013108f-1c4a-4bf9-9137-8c006a15c2a2",
   "metadata": {},
   "outputs": [
    {
     "name": "stdout",
     "output_type": "stream",
     "text": [
      "Emotions: ['Happiness' 'Anger' 'Neutral' 'Anxiety' 'Boredom' 'Sadness']\n",
      "Gender: ['Female' 'Male' 'Non-binary']\n",
      "Platform: ['Instagram' 'Twitter' 'Facebook' 'LinkedIn' 'Whatsapp' 'Telegram'\n",
      " 'Snapchat']\n"
     ]
    }
   ],
   "source": [
    "# Get a list of the categorical columns and all unique values\n",
    "emotion_list = social_df['Dominant_Emotion'].unique()\n",
    "print(\"Emotions:\", emotion_list)\n",
    "\n",
    "gender_list = social_df['Gender'].unique()\n",
    "print(\"Gender:\", gender_list)\n",
    "\n",
    "platform_list = social_df['Platform'].unique()\n",
    "print(\"Platform:\", platform_list)"
   ]
  },
  {
   "cell_type": "code",
   "execution_count": null,
   "id": "14562e6b-40d0-494b-89f9-39ba51c4eea2",
   "metadata": {},
   "outputs": [],
   "source": []
  },
  {
   "cell_type": "code",
   "execution_count": null,
   "id": "edac0ad5-991e-4319-a740-f76ef65084b7",
   "metadata": {},
   "outputs": [],
   "source": []
  },
  {
   "cell_type": "code",
   "execution_count": null,
   "id": "b887d931-65ff-486d-8eff-6f3ebcf8d5c5",
   "metadata": {},
   "outputs": [],
   "source": []
  },
  {
   "cell_type": "code",
   "execution_count": null,
   "id": "31505e8a-1418-4be0-a10f-578c1fed65de",
   "metadata": {},
   "outputs": [],
   "source": []
  },
  {
   "cell_type": "code",
   "execution_count": 98,
   "id": "f8f7f97c-6b43-4fec-b03f-64719137f833",
   "metadata": {},
   "outputs": [
    {
     "name": "stdout",
     "output_type": "stream",
     "text": [
      "          count unique         top freq\n",
      "Platform                               \n",
      "Facebook    190      3  Non-binary  140\n",
      "Instagram   250      3      Female  160\n",
      "LinkedIn    120      3        Male   50\n",
      "Snapchat     80      2  Non-binary   50\n",
      "Telegram     80      2        Male   60\n",
      "Twitter     200      3        Male  110\n",
      "Whatsapp     80      2      Female   60\n"
     ]
    }
   ],
   "source": [
    "# Group the data by 'Platform' column\n",
    "grouped_data = social_df.groupby('Platform')['Gender']\n",
    "\n",
    "# Calculate descriptive statistics for each group\n",
    "group_stats = grouped_data.describe()\n",
    "print(group_stats)"
   ]
  },
  {
   "cell_type": "code",
   "execution_count": 100,
   "id": "df45d19b-bcb0-470b-9695-1c82dc50c265",
   "metadata": {},
   "outputs": [
    {
     "name": "stdout",
     "output_type": "stream",
     "text": [
      "User_ID                       object\n",
      "Age                           object\n",
      "Gender                        object\n",
      "Platform                      object\n",
      "Daily_Usage_Time (minutes)    object\n",
      "Posts_Per_Day                 object\n",
      "Likes_Received_Per_Day        object\n",
      "Comments_Received_Per_Day     object\n",
      "Messages_Sent_Per_Day         object\n",
      "Dominant_Emotion              object\n",
      "dtype: object\n"
     ]
    }
   ],
   "source": [
    "print(social_df.dtypes)"
   ]
  },
  {
   "cell_type": "code",
   "execution_count": 99,
   "id": "f1ecae6e-a283-403d-a3ac-327a72646dde",
   "metadata": {},
   "outputs": [],
   "source": [
    "# Check for string columns\n",
    "if 'object' in social_df.dtypes:\n",
    "  # Handle string columns (convert to numeric)\n",
    "  social_df['Age'] = pd.to_numeric(social_df['Age'], errors='coerce')\n",
    "\n",
    "# Handle missing values (replace with your preferred method)\n",
    "social_df.dropna(inplace=True)  # Remove rows with missing values"
   ]
  },
  {
   "cell_type": "code",
   "execution_count": null,
   "id": "8e083214-dd2a-414e-a008-791ed44776bb",
   "metadata": {},
   "outputs": [],
   "source": []
  },
  {
   "cell_type": "code",
   "execution_count": null,
   "id": "02e74bc8-0d10-4983-ba19-2d7152dcf117",
   "metadata": {},
   "outputs": [],
   "source": []
  },
  {
   "cell_type": "code",
   "execution_count": null,
   "id": "73cc4b1a-206c-4b90-8d3d-4195e5ca318a",
   "metadata": {},
   "outputs": [],
   "source": []
  },
  {
   "cell_type": "code",
   "execution_count": null,
   "id": "ccd61c13-cbc9-4365-a127-9e186b367124",
   "metadata": {},
   "outputs": [],
   "source": []
  },
  {
   "cell_type": "code",
   "execution_count": null,
   "id": "f13c7fe2-9ec0-4bc2-b0c7-d669e117a0ca",
   "metadata": {},
   "outputs": [],
   "source": []
  },
  {
   "cell_type": "markdown",
   "id": "1f65cd5a-c689-4552-9c0c-d79681fb71aa",
   "metadata": {},
   "source": [
    "## Section 2: Exploratory Data Analysis"
   ]
  },
  {
   "cell_type": "code",
   "execution_count": null,
   "id": "eaaeded9-dfb9-429a-b274-372468488cd9",
   "metadata": {},
   "outputs": [],
   "source": []
  },
  {
   "cell_type": "code",
   "execution_count": null,
   "id": "9f186f9b-23db-429d-9049-e91e641ed8c1",
   "metadata": {},
   "outputs": [],
   "source": []
  },
  {
   "cell_type": "code",
   "execution_count": null,
   "id": "c2611415-7e11-43cd-b3d1-1f9441728406",
   "metadata": {},
   "outputs": [],
   "source": []
  },
  {
   "cell_type": "code",
   "execution_count": null,
   "id": "39f57ab4-836b-481e-913c-7347f5bf2783",
   "metadata": {},
   "outputs": [],
   "source": []
  },
  {
   "cell_type": "markdown",
   "id": "3f81b93b-3bc9-4184-92c4-711797503351",
   "metadata": {},
   "source": [
    "## Section 3: Model Selection and Analysis"
   ]
  },
  {
   "cell_type": "code",
   "execution_count": null,
   "id": "4752caac-6497-4206-a2af-32d0559a5c4e",
   "metadata": {},
   "outputs": [],
   "source": []
  }
 ],
 "metadata": {
  "kernelspec": {
   "display_name": "Python 3 (ipykernel)",
   "language": "python",
   "name": "python3"
  },
  "language_info": {
   "codemirror_mode": {
    "name": "ipython",
    "version": 3
   },
   "file_extension": ".py",
   "mimetype": "text/x-python",
   "name": "python",
   "nbconvert_exporter": "python",
   "pygments_lexer": "ipython3",
   "version": "3.8.18"
  }
 },
 "nbformat": 4,
 "nbformat_minor": 5
}
